{
  "nbformat": 4,
  "nbformat_minor": 0,
  "metadata": {
    "colab": {
      "provenance": []
    },
    "kernelspec": {
      "name": "python3",
      "display_name": "Python 3"
    },
    "language_info": {
      "name": "python"
    }
  },
  "cells": [
    {
      "cell_type": "code",
      "execution_count": 5,
      "metadata": {
        "colab": {
          "base_uri": "https://localhost:8080/"
        },
        "id": "pQBqBT67pf70",
        "outputId": "cc76a4e4-3fbb-4d8e-8f60-3a32e1138d3a"
      },
      "outputs": [
        {
          "output_type": "stream",
          "name": "stdout",
          "text": [
            "Requirement already satisfied: faker in /usr/local/lib/python3.10/dist-packages (26.3.0)\n",
            "Requirement already satisfied: python-dateutil>=2.4 in /usr/local/lib/python3.10/dist-packages (from faker) (2.8.2)\n",
            "Requirement already satisfied: six>=1.5 in /usr/local/lib/python3.10/dist-packages (from python-dateutil>=2.4->faker) (1.16.0)\n"
          ]
        }
      ],
      "source": [
        "pip install faker"
      ]
    },
    {
      "cell_type": "code",
      "source": [
        "import pandas as pd\n",
        "from faker import Faker\n",
        "import random\n",
        "\n",
        "# Initialize Faker\n",
        "fake = Faker()\n",
        "\n",
        "# Load your existing CSV file\n",
        "df = pd.read_csv('Human Resources.csv')\n",
        "\n",
        "# Define levels for the new columns\n",
        "education_levels = ['High School', 'Associate Degree', 'Bachelor\\'s', 'Master\\'s', 'PhD']\n",
        "performance_levels = ['Below Average', 'Average', 'Above Average']\n",
        "satisfaction_levels = ['Low', 'Medium', 'High']\n",
        "\n",
        "# Generate data for the new columns\n",
        "df['education'] = [random.choice(education_levels) for _ in range(len(df))]\n",
        "df['performance'] = [random.choice(performance_levels) for _ in range(len(df))]\n",
        "df['employee_satisfaction'] = [random.choice(satisfaction_levels) for _ in range(len(df))]\n",
        "\n",
        "# Save the updated DataFrame back to CSV\n",
        "df.to_csv('Human Resources Updated.csv', index=False)\n",
        "\n",
        "print(\"New columns added successfully!\")\n"
      ],
      "metadata": {
        "colab": {
          "base_uri": "https://localhost:8080/"
        },
        "id": "ZcJuHRq8pnGd",
        "outputId": "8c8423a1-949a-4694-a406-0962730bef39"
      },
      "execution_count": 6,
      "outputs": [
        {
          "output_type": "stream",
          "name": "stdout",
          "text": [
            "New columns added successfully!\n"
          ]
        }
      ]
    }
  ]
}