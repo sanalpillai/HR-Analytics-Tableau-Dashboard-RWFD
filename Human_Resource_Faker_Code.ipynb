{
  "nbformat": 4,
  "nbformat_minor": 0,
  "metadata": {
    "colab": {
      "provenance": []
    },
    "kernelspec": {
      "name": "python3",
      "display_name": "Python 3"
    },
    "language_info": {
      "name": "python"
    }
  },
  "cells": [
    {
      "cell_type": "code",
      "execution_count": 1,
      "metadata": {
        "colab": {
          "base_uri": "https://localhost:8080/"
        },
        "id": "pQBqBT67pf70",
        "outputId": "6d329aea-3687-4348-c87e-4e78eaad7a29"
      },
      "outputs": [
        {
          "output_type": "stream",
          "name": "stdout",
          "text": [
            "Collecting faker\n",
            "  Downloading Faker-26.3.0-py3-none-any.whl.metadata (15 kB)\n",
            "Requirement already satisfied: python-dateutil>=2.4 in /usr/local/lib/python3.10/dist-packages (from faker) (2.8.2)\n",
            "Requirement already satisfied: six>=1.5 in /usr/local/lib/python3.10/dist-packages (from python-dateutil>=2.4->faker) (1.16.0)\n",
            "Downloading Faker-26.3.0-py3-none-any.whl (1.8 MB)\n",
            "\u001b[2K   \u001b[90m━━━━━━━━━━━━━━━━━━━━━━━━━━━━━━━━━━━━━━━━\u001b[0m \u001b[32m1.8/1.8 MB\u001b[0m \u001b[31m8.0 MB/s\u001b[0m eta \u001b[36m0:00:00\u001b[0m\n",
            "\u001b[?25hInstalling collected packages: faker\n",
            "Successfully installed faker-26.3.0\n"
          ]
        }
      ],
      "source": [
        "pip install faker"
      ]
    },
    {
      "cell_type": "code",
      "source": [
        "import pandas as pd\n",
        "from faker import Faker\n",
        "import random\n",
        "\n",
        "# Initialize Faker\n",
        "fake = Faker()\n",
        "\n",
        "# Load your existing CSV file\n",
        "df = pd.read_csv('Human Resources.csv')\n",
        "\n",
        "# Generate data for the new columns\n",
        "education_levels = ['High School', 'Associate Degree', 'Bachelor\\'s', 'Master\\'s', 'PhD']\n",
        "df['education'] = [random.choice(education_levels) for _ in range(len(df))]\n",
        "df['performance'] = [random.randint(1, 5) for _ in range(len(df))]  # Performance rating (1-5)\n",
        "df['employee_satisfaction'] = [random.uniform(1, 10) for _ in range(len(df))]  # Satisfaction level (1-10)\n",
        "\n",
        "# Save the updated DataFrame back to CSV\n",
        "df.to_csv('Human_Resource_Faker_Addition.csv', index=False)\n",
        "\n",
        "print(\"New columns added successfully!\")\n"
      ],
      "metadata": {
        "colab": {
          "base_uri": "https://localhost:8080/"
        },
        "id": "ZcJuHRq8pnGd",
        "outputId": "82fc3732-8351-41f9-dd2c-632fed01c9d4"
      },
      "execution_count": 3,
      "outputs": [
        {
          "output_type": "stream",
          "name": "stdout",
          "text": [
            "New columns added successfully!\n"
          ]
        }
      ]
    }
  ]
}