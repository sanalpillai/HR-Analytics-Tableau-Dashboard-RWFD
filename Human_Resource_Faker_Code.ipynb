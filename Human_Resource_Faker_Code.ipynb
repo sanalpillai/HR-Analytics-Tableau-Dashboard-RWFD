{
  "nbformat": 4,
  "nbformat_minor": 0,
  "metadata": {
    "colab": {
      "provenance": []
    },
    "kernelspec": {
      "name": "python3",
      "display_name": "Python 3"
    },
    "language_info": {
      "name": "python"
    }
  },
  "cells": [
    {
      "cell_type": "code",
      "execution_count": null,
      "metadata": {
        "colab": {
          "base_uri": "https://localhost:8080/"
        },
        "id": "pQBqBT67pf70",
        "outputId": "cc76a4e4-3fbb-4d8e-8f60-3a32e1138d3a"
      },
      "outputs": [
        {
          "output_type": "stream",
          "name": "stdout",
          "text": [
            "Requirement already satisfied: faker in /usr/local/lib/python3.10/dist-packages (26.3.0)\n",
            "Requirement already satisfied: python-dateutil>=2.4 in /usr/local/lib/python3.10/dist-packages (from faker) (2.8.2)\n",
            "Requirement already satisfied: six>=1.5 in /usr/local/lib/python3.10/dist-packages (from python-dateutil>=2.4->faker) (1.16.0)\n"
          ]
        }
      ],
      "source": [
        "pip install faker"
      ]
    },
    {
      "cell_type": "code",
      "source": [
        "import pandas as pd\n",
        "from faker import Faker\n",
        "import random\n",
        "\n",
        "# Initialize Faker\n",
        "fake = Faker()\n",
        "\n",
        "# Load your existing CSV file\n",
        "df = pd.read_csv('Human Resources.csv')\n",
        "\n",
        "# Define the education mapping based on job titles\n",
        "education_mapping = {\n",
        "    'High School': ['Administrative Assistant', 'Accounting Assistant', 'Office Assistant', 'Support Staff', 'Help Desk Technician', 'Operator'],\n",
        "    'Associate Degree': ['Desktop Support Technician', 'Help Desk Operator', 'Technician', 'Accounting Assistant II', 'Automation Specialist I'],\n",
        "    'Bachelor\\'s': ['Accountant', 'Engineer', 'HR Analyst', 'Marketing Manager', 'Software Engineer', 'Data Visualization Specialist', 'Programmer Analyst'],\n",
        "    'Master\\'s': ['HR Manager', 'Senior Financial Analyst', 'Project Manager', 'Senior Developer', 'Quality Engineer', 'Senior Recruiter'],\n",
        "    'PhD': ['Professor', 'Senior Attorney', 'VP roles', 'Research Associate', 'Staff Scientist']\n",
        "}\n",
        "\n",
        "# Function to assign education based on job title\n",
        "def assign_education(jobtitle):\n",
        "    if pd.isna(jobtitle):  # Check if jobtitle is NaN\n",
        "        return 'Bachelor\\'s'  # Default to Bachelor's if job title is missing\n",
        "    jobtitle = str(jobtitle)  # Convert jobtitle to string\n",
        "    for education, titles in education_mapping.items():\n",
        "        if any(jobtitle.startswith(title) for title in titles):\n",
        "            return education\n",
        "    return 'Bachelor\\'s'  # Default to Bachelor's if no match is found\n",
        "\n",
        "# Apply the function to generate the education column\n",
        "df['education'] = df['jobtitle'].apply(assign_education)\n",
        "\n",
        "# Define levels for performance and satisfaction\n",
        "performance_levels = ['Below Average', 'Average', 'Above Average']\n",
        "satisfaction_levels = ['Low', 'Medium', 'High']\n",
        "\n",
        "# Generate data for performance and employee satisfaction\n",
        "df['performance'] = [random.choice(performance_levels) for _ in range(len(df))]\n",
        "df['employee_satisfaction'] = [random.choice(satisfaction_levels) for _ in range(len(df))]\n",
        "\n",
        "# Save the updated DataFrame back to CSV\n",
        "df.to_csv('Human Resources Updated.csv', index=False)\n",
        "\n",
        "print(\"New columns added successfully!\")\n"
      ],
      "metadata": {
        "colab": {
          "base_uri": "https://localhost:8080/"
        },
        "id": "ZcJuHRq8pnGd",
        "outputId": "dec9887e-51a8-48e5-81cd-fdd79ebfa4d6"
      },
      "execution_count": 8,
      "outputs": [
        {
          "output_type": "stream",
          "name": "stdout",
          "text": [
            "New columns added successfully!\n"
          ]
        }
      ]
    }
  ]
}